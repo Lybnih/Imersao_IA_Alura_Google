{
  "nbformat": 4,
  "nbformat_minor": 0,
  "metadata": {
    "colab": {
      "provenance": [],
      "authorship_tag": "ffff",
      "include_colab_link": true
    },
    "kernelspec": {
      "name": "python3",
      "display_name": "Python 3"
    },
    "language_info": {
      "name": "python"
    }
  },
  "cells": [
    {
      "cell_type": "markdown",
      "metadata": {
        "id": "view-in-github",
        "colab_type": "text"
      },
      "source": [
        "<a href=\"https://colab.research.google.com/github/Lybnih/Imersao_IA_Alura_Google/blob/main/Projeto_Imersao.ipynb\" target=\"_parent\"><img src=\"https://colab.research.google.com/assets/colab-badge.svg\" alt=\"Open In Colab\"/></a>"
      ]
    },
    {
      "cell_type": "code",
      "execution_count": 3,
      "metadata": {
        "id": "xN6uXexV3Kqy"
      },
      "outputs": [],
      "source": [
        "#Instalando o SDK do Google\n",
        "!pip install -q -U google-generativeai"
      ]
    },
    {
      "cell_type": "code",
      "source": [
        "#Configurações iniciais\n",
        "import google.generativeai as genai\n",
        "\n",
        "GOOGLE_API_KEY=\"fff\"\n",
        "genai.configure(api_key=GOOGLE_API_KEY)"
      ],
      "metadata": {
        "id": "_aQEZuKJ3Ow5"
      },
      "execution_count": 6,
      "outputs": []
    },
    {
      "cell_type": "code",
      "source": [
        "#Listando os modelos disponíveis\n",
        "for modelo in genai.list_models():\n",
        "  if 'generateContent' in modelo.supported_generation_methods:\n",
        "    print(modelo.name)"
      ],
      "metadata": {
        "colab": {
          "base_uri": "https://localhost:8080/",
          "height": 139
        },
        "id": "gwzxW6shOUBT",
        "outputId": "f94aeaf7-94cc-445c-887e-152daf05da2f"
      },
      "execution_count": 7,
      "outputs": [
        {
          "output_type": "stream",
          "name": "stdout",
          "text": [
            "models/gemini-1.0-pro\n",
            "models/gemini-1.0-pro-001\n",
            "models/gemini-1.0-pro-latest\n",
            "models/gemini-1.0-pro-vision-latest\n",
            "models/gemini-1.5-pro-latest\n",
            "models/gemini-pro\n",
            "models/gemini-pro-vision\n"
          ]
        }
      ]
    },
    {
      "cell_type": "code",
      "source": [
        "generation_config = {\n",
        "  \"candidate_count\": 1,\n",
        "  \"temperature\": 0.5,\n",
        "}"
      ],
      "metadata": {
        "id": "6kjrh9MtOUO0"
      },
      "execution_count": 14,
      "outputs": []
    },
    {
      "cell_type": "code",
      "source": [
        "safety_settings={\n",
        "    'HATE': 'BLOCK_NONE',\n",
        "    'HARASSMENT': 'BLOCK_NONE',\n",
        "    'SEXUAL' : 'BLOCK_NONE',\n",
        "    'DANGEROUS' : 'BLOCK_NONE'\n",
        "    }"
      ],
      "metadata": {
        "id": "0-DIovcuQpJM"
      },
      "execution_count": 15,
      "outputs": []
    },
    {
      "cell_type": "code",
      "source": [
        "model = genai.GenerativeModel(model_name='gemini-1.0-pro',\n",
        "                                  generation_config=generation_config,\n",
        "                                  safety_settings=safety_settings,)"
      ],
      "metadata": {
        "id": "-fIzztsGRWCZ"
      },
      "execution_count": 16,
      "outputs": []
    },
    {
      "cell_type": "code",
      "source": [
        "response = model.generate_content(\"Que empresa criou o modelo de IA Gemini?\")\n",
        "response.text"
      ],
      "metadata": {
        "colab": {
          "base_uri": "https://localhost:8080/",
          "height": 36
        },
        "id": "JDqLycokSXNt",
        "outputId": "2ecee46c-304b-4383-bea5-b4de560a9d1a"
      },
      "execution_count": 17,
      "outputs": [
        {
          "output_type": "execute_result",
          "data": {
            "text/plain": [
              "'Google'"
            ],
            "application/vnd.google.colaboratory.intrinsic+json": {
              "type": "string"
            }
          },
          "metadata": {},
          "execution_count": 17
        }
      ]
    },
    {
      "cell_type": "code",
      "source": [
        "response = model.generate_content(\"Vamos aprender sobre IA com a Alura e Google, me de sugestões\")\n",
        "response.text"
      ],
      "metadata": {
        "colab": {
          "base_uri": "https://localhost:8080/",
          "height": 140
        },
        "id": "aHEp_qjZTGXA",
        "outputId": "78dd6d45-85b5-4301-8cf6-6ae2b152dc98"
      },
      "execution_count": 18,
      "outputs": [
        {
          "output_type": "execute_result",
          "data": {
            "text/plain": [
              "'**Cursos da Alura:**\\n\\n* **Inteligência Artificial: Conceitos e Aplicações**\\n* **Machine Learning com Python**\\n* **TensorFlow para Iniciantes**\\n* **Redes Neurais Artificiais com Keras**\\n* **Processamento de Linguagem Natural (PNL) com Python**\\n* **Visão Computacional com OpenCV**\\n\\n**Cursos do Google:**\\n\\n**Coursera:**\\n* **Introdução à Inteligência Artificial**\\n* **Aprendizado de Máquina**\\n* **Redes Neurais**\\n* **Processamento de Linguagem Natural**\\n* **Visão Computacional**\\n\\n**Udacity:**\\n* **Introdução à Inteligência Artificial**\\n* **Aprendizado de Máquina Avançado**\\n* **Engenheiro de Inteligência Artificial**\\n* **Nanodegree em Inteligência Artificial**\\n\\n**Outras sugestões:**\\n\\n* **Livros:**\\n    * \"Inteligência Artificial: Uma Abordagem Moderna\" por Stuart Russell e Peter Norvig\\n    * \"Aprendizado de Máquina\" por Tom Mitchell\\n* **Recursos online:**\\n    * [MIT OpenCourseWare](https://ocw.mit.edu/courses/electrical-engineering-and-computer-science/6-034-artificial-intelligence-fall-2010/)\\n    * [Stanford Online](https://online.stanford.edu/courses/soe-ycsgen1-artificial-intelligence)\\n* **Comunidades online:**\\n    * [Kaggle](https://www.kaggle.com/)\\n    * [Reddit](https://www.reddit.com/r/artificial/)'"
            ],
            "application/vnd.google.colaboratory.intrinsic+json": {
              "type": "string"
            }
          },
          "metadata": {},
          "execution_count": 18
        }
      ]
    },
    {
      "cell_type": "code",
      "source": [
        "#Abri uma lista vazia sem historico pro chat\n",
        "chat = model.start_chat(history=[])\n",
        "\n",
        "#Coloquei um imput\n",
        "response = input('Esperando prompt: ')\n",
        "\n",
        "while prompt != \"fim\":\n",
        "  response = chat.send_message(prompt)\n",
        "  print(\"Resposta:\", response.text, '\\n\\n')\n",
        "  prompt = input('Esperando prompt: ')"
      ],
      "metadata": {
        "colab": {
          "base_uri": "https://localhost:8080/",
          "height": 1000
        },
        "id": "CW893KyoWA8j",
        "outputId": "6a639530-9e89-480d-86d9-64059fdfc333"
      },
      "execution_count": null,
      "outputs": [
        {
          "output_type": "stream",
          "name": "stdout",
          "text": [
            "Esperando prompt: oii\n",
            "Resposta: Você não especificou o país, então não posso fornecer a comida típica. \n",
            "\n",
            "\n",
            "Esperando prompt: brasil\n",
            "Resposta: **Comidas Típicas do Brasil**\n",
            "\n",
            "**Região Norte**\n",
            "\n",
            "* Açaí\n",
            "* Tacacá\n",
            "* Pato no tucupi\n",
            "* Maniçoba\n",
            "* Caldeirada de peixe\n",
            "\n",
            "**Região Nordeste**\n",
            "\n",
            "* Baião de dois\n",
            "* Moqueca\n",
            "* Vatapá\n",
            "* Carne de sol\n",
            "* Cuscuz\n",
            "\n",
            "**Região Centro-Oeste**\n",
            "\n",
            "* Arroz com pequi\n",
            "* Guariroba\n",
            "* Pamonha\n",
            "* Empadão goiano\n",
            "* Pequi frito\n",
            "\n",
            "**Região Sudeste**\n",
            "\n",
            "* Feijoada\n",
            "* Tutu de feijão\n",
            "* Virado à paulista\n",
            "* Pastel\n",
            "* Pão de queijo\n",
            "\n",
            "**Região Sul**\n",
            "\n",
            "* Churrasco\n",
            "* Barreado\n",
            "* Chimarrão\n",
            "* Pincanha\n",
            "* Cuca\n",
            "\n",
            "**Outras comidas populares**\n",
            "\n",
            "* Brigadeiro\n",
            "* Coxinha\n",
            "* Pastel\n",
            "* Pudim de leite\n",
            "* Bolo de rolo \n",
            "\n",
            "\n"
          ]
        }
      ]
    },
    {
      "cell_type": "code",
      "source": [
        "chat.history"
      ],
      "metadata": {
        "colab": {
          "base_uri": "https://localhost:8080/"
        },
        "id": "BWNF_FzbYHu0",
        "outputId": "9cdc25c5-ba7c-441a-ca89-4cc3b7cf3a1e"
      },
      "execution_count": 23,
      "outputs": [
        {
          "output_type": "execute_result",
          "data": {
            "text/plain": [
              "[parts {\n",
              "   text: \"qual a temperatura de hoje?\"\n",
              " }\n",
              " role: \"user\",\n",
              " parts {\n",
              "   text: \"Sinto muito, n\\303\\243o tenho acesso a informa\\303\\247\\303\\265es em tempo real, incluindo a temperatura atual. Recomendo verificar um aplicativo de previs\\303\\243o do tempo ou um site para obter as informa\\303\\247\\303\\265es mais atualizadas.\"\n",
              " }\n",
              " role: \"model\",\n",
              " parts {\n",
              "   text: \"Qual a capital do jap\\303\\243o?\"\n",
              " }\n",
              " role: \"user\",\n",
              " parts {\n",
              "   text: \"T\\303\\263quio\"\n",
              " }\n",
              " role: \"model\",\n",
              " parts {\n",
              "   text: \"Qual a comida tipica desse pais?\"\n",
              " }\n",
              " role: \"user\",\n",
              " parts {\n",
              "   text: \"Sushi\"\n",
              " }\n",
              " role: \"model\"]"
            ]
          },
          "metadata": {},
          "execution_count": 23
        }
      ]
    },
    {
      "cell_type": "code",
      "source": [
        "#Melhorando a visualização\n",
        "import textwrap\n",
        "from IPython.display import display\n",
        "from IPython.display import Markdown\n",
        "\n",
        "#markdown é importante pra documentar, formatar textos\n",
        "def to_markdown(text):\n",
        "  text = text.replace('•', '  *')\n",
        "  return Markdown(textwrap.indent(text, '> ', predicate=lambda _: True))\n",
        "\n",
        "#Imprimindo o histórico\n",
        "for message in chat.history:\n",
        "  display(to_markdown(f'**{message.role}**: {message.parts[0].text}'))\n",
        "  print('-------------------------------------------')"
      ],
      "metadata": {
        "colab": {
          "base_uri": "https://localhost:8080/",
          "height": 411
        },
        "id": "in5Og0X2adLC",
        "outputId": "c8f8e6a0-d34a-428a-d0d7-23fe494a8c94"
      },
      "execution_count": 22,
      "outputs": [
        {
          "output_type": "display_data",
          "data": {
            "text/plain": [
              "<IPython.core.display.Markdown object>"
            ],
            "text/markdown": "> **user**: qual a temperatura de hoje?"
          },
          "metadata": {}
        },
        {
          "output_type": "stream",
          "name": "stdout",
          "text": [
            "-------------------------------------------\n"
          ]
        },
        {
          "output_type": "display_data",
          "data": {
            "text/plain": [
              "<IPython.core.display.Markdown object>"
            ],
            "text/markdown": "> **model**: Sinto muito, não tenho acesso a informações em tempo real, incluindo a temperatura atual. Recomendo verificar um aplicativo de previsão do tempo ou um site para obter as informações mais atualizadas."
          },
          "metadata": {}
        },
        {
          "output_type": "stream",
          "name": "stdout",
          "text": [
            "-------------------------------------------\n"
          ]
        },
        {
          "output_type": "display_data",
          "data": {
            "text/plain": [
              "<IPython.core.display.Markdown object>"
            ],
            "text/markdown": "> **user**: Qual a capital do japão?"
          },
          "metadata": {}
        },
        {
          "output_type": "stream",
          "name": "stdout",
          "text": [
            "-------------------------------------------\n"
          ]
        },
        {
          "output_type": "display_data",
          "data": {
            "text/plain": [
              "<IPython.core.display.Markdown object>"
            ],
            "text/markdown": "> **model**: Tóquio"
          },
          "metadata": {}
        },
        {
          "output_type": "stream",
          "name": "stdout",
          "text": [
            "-------------------------------------------\n"
          ]
        },
        {
          "output_type": "display_data",
          "data": {
            "text/plain": [
              "<IPython.core.display.Markdown object>"
            ],
            "text/markdown": "> **user**: Qual a comida tipica desse pais?"
          },
          "metadata": {}
        },
        {
          "output_type": "stream",
          "name": "stdout",
          "text": [
            "-------------------------------------------\n"
          ]
        },
        {
          "output_type": "display_data",
          "data": {
            "text/plain": [
              "<IPython.core.display.Markdown object>"
            ],
            "text/markdown": "> **model**: Sushi"
          },
          "metadata": {}
        },
        {
          "output_type": "stream",
          "name": "stdout",
          "text": [
            "-------------------------------------------\n"
          ]
        }
      ]
    }
  ]
}
